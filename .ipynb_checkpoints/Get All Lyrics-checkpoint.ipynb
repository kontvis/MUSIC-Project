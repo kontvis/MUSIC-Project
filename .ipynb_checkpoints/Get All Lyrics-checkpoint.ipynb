{
 "cells": [
  {
   "cell_type": "markdown",
   "metadata": {},
   "source": [
    "#### Start with the saved list of the top songs\n",
    "#### Use the song_title & artist to look up lyrics\n",
    "##### for reference, check out this similar project: http://tlfvincent.github.io/2015/10/23/presidential-speech-topics/"
   ]
  },
  {
   "cell_type": "code",
   "execution_count": 1,
   "metadata": {},
   "outputs": [],
   "source": [
    "#Load libraries\n",
    "from bs4 import BeautifulSoup as soup\n",
    "from urllib.request import urlopen as uReq\n",
    "import pandas as pd\n",
    "import re\n",
    "import numpy as np\n",
    "import nltk\n",
    "from collections import defaultdict"
   ]
  },
  {
   "cell_type": "code",
   "execution_count": 2,
   "metadata": {},
   "outputs": [],
   "source": [
    "#import gensim\n",
    "#from gensim import corpora\n",
    "from nltk.corpus import stopwords \n",
    "from nltk.stem.wordnet import WordNetLemmatizer\n",
    "import string"
   ]
  },
  {
   "cell_type": "code",
   "execution_count": 3,
   "metadata": {},
   "outputs": [
    {
     "name": "stderr",
     "output_type": "stream",
     "text": [
      "[nltk_data] Downloading package stopwords to\n",
      "[nltk_data]     C:\\Users\\juharris\\AppData\\Roaming\\nltk_data...\n",
      "[nltk_data]   Package stopwords is already up-to-date!\n",
      "[nltk_data] Downloading package wordnet to\n",
      "[nltk_data]     C:\\Users\\juharris\\AppData\\Roaming\\nltk_data...\n",
      "[nltk_data]   Package wordnet is already up-to-date!\n"
     ]
    },
    {
     "data": {
      "text/plain": [
       "True"
      ]
     },
     "execution_count": 3,
     "metadata": {},
     "output_type": "execute_result"
    }
   ],
   "source": [
    "nltk.download('stopwords')\n",
    "nltk.download('wordnet')"
   ]
  },
  {
   "cell_type": "code",
   "execution_count": 4,
   "metadata": {},
   "outputs": [],
   "source": [
    "#Load list of the top 100 songs from each year scraped from the Billboard 100 site\n",
    "df = pd.read_csv('data/top_songs.csv') "
   ]
  },
  {
   "cell_type": "markdown",
   "metadata": {},
   "source": [
    "##### Clean the dataframe \n",
    "remove \\nLYRICS <br>\n",
    "create artistsong example: artistsong = \"justinbieber/loveyourself.html\""
   ]
  },
  {
   "cell_type": "code",
   "execution_count": 5,
   "metadata": {},
   "outputs": [],
   "source": [
    "def clean_df(df_name):\n",
    "    df = df_name\n",
    "    df.song_title = df.song_title.str.replace('\\nLYRICS','')\n",
    "    df['artist1'] = df.artist.str.replace(' ','')\n",
    "    df['artist2'] = df.artist1.str.replace('feat\\..*$','', regex = True)\n",
    "    df['song_title1'] = df.song_title.str.replace(' ','', regex = True)\n",
    "    df['song_title2'] = df.song_title1.str.replace('[?.!’‘()]','', regex = True)\n",
    "    df['artistsong'] = df.artist2+\"/\"+df.song_title2+\".html\"\n",
    "    df['artistsong'] = df['artistsong'].str.lower()\n",
    "    newdf = df[['rank','artistsong','year', 'artist','song_title']]\n",
    "    return newdf"
   ]
  },
  {
   "cell_type": "code",
   "execution_count": 6,
   "metadata": {},
   "outputs": [],
   "source": [
    "lookups = clean_df(df)"
   ]
  },
  {
   "cell_type": "code",
   "execution_count": 7,
   "metadata": {},
   "outputs": [
    {
     "data": {
      "text/html": [
       "<div>\n",
       "<style scoped>\n",
       "    .dataframe tbody tr th:only-of-type {\n",
       "        vertical-align: middle;\n",
       "    }\n",
       "\n",
       "    .dataframe tbody tr th {\n",
       "        vertical-align: top;\n",
       "    }\n",
       "\n",
       "    .dataframe thead th {\n",
       "        text-align: right;\n",
       "    }\n",
       "</style>\n",
       "<table border=\"1\" class=\"dataframe\">\n",
       "  <thead>\n",
       "    <tr style=\"text-align: right;\">\n",
       "      <th></th>\n",
       "      <th>rank</th>\n",
       "      <th>artistsong</th>\n",
       "      <th>year</th>\n",
       "      <th>artist</th>\n",
       "      <th>song_title</th>\n",
       "    </tr>\n",
       "  </thead>\n",
       "  <tbody>\n",
       "    <tr>\n",
       "      <th>6385</th>\n",
       "      <td>82</td>\n",
       "      <td>ilovemakonnen/tuesday.html</td>\n",
       "      <td>2015</td>\n",
       "      <td>iLoveMakonnen feat. Drake</td>\n",
       "      <td>Tuesday</td>\n",
       "    </tr>\n",
       "    <tr>\n",
       "      <th>6386</th>\n",
       "      <td>83</td>\n",
       "      <td>ilovememphis/hitthequan.html</td>\n",
       "      <td>2015</td>\n",
       "      <td>iLoveMemphis</td>\n",
       "      <td>Hit The Quan</td>\n",
       "    </tr>\n",
       "    <tr>\n",
       "      <th>6387</th>\n",
       "      <td>84</td>\n",
       "      <td>macklemoreandryanlewis/downtown.html</td>\n",
       "      <td>2015</td>\n",
       "      <td>Macklemore and Ryan Lewis feat. Eric Nally, Me...</td>\n",
       "      <td>Downtown</td>\n",
       "    </tr>\n",
       "    <tr>\n",
       "      <th>6388</th>\n",
       "      <td>85</td>\n",
       "      <td>samhunt/houseparty.html</td>\n",
       "      <td>2015</td>\n",
       "      <td>Sam Hunt</td>\n",
       "      <td>House Party</td>\n",
       "    </tr>\n",
       "    <tr>\n",
       "      <th>6389</th>\n",
       "      <td>86</td>\n",
       "      <td>chrisbrownandtyga/ayo.html</td>\n",
       "      <td>2015</td>\n",
       "      <td>Chris Brown and Tyga</td>\n",
       "      <td>Ayo</td>\n",
       "    </tr>\n",
       "    <tr>\n",
       "      <th>6390</th>\n",
       "      <td>87</td>\n",
       "      <td>lukebryan/kickthedustup.html</td>\n",
       "      <td>2015</td>\n",
       "      <td>Luke Bryan</td>\n",
       "      <td>Kick The Dust Up</td>\n",
       "    </tr>\n",
       "    <tr>\n",
       "      <th>6391</th>\n",
       "      <td>88</td>\n",
       "      <td>bigsean/blessings.html</td>\n",
       "      <td>2015</td>\n",
       "      <td>Big Sean feat. Drake</td>\n",
       "      <td>Blessings</td>\n",
       "    </tr>\n",
       "    <tr>\n",
       "      <th>6392</th>\n",
       "      <td>89</td>\n",
       "      <td>georgeezra/budapest.html</td>\n",
       "      <td>2015</td>\n",
       "      <td>George Ezra</td>\n",
       "      <td>Budapest</td>\n",
       "    </tr>\n",
       "    <tr>\n",
       "      <th>6393</th>\n",
       "      <td>90</td>\n",
       "      <td>sia/chandelier.html</td>\n",
       "      <td>2015</td>\n",
       "      <td>Sia</td>\n",
       "      <td>Chandelier</td>\n",
       "    </tr>\n",
       "    <tr>\n",
       "      <th>6394</th>\n",
       "      <td>91</td>\n",
       "      <td>kellyclarkson/heartbeatsong.html</td>\n",
       "      <td>2015</td>\n",
       "      <td>Kelly Clarkson</td>\n",
       "      <td>Heartbeat Song</td>\n",
       "    </tr>\n",
       "    <tr>\n",
       "      <th>6395</th>\n",
       "      <td>92</td>\n",
       "      <td>edsheeran/dont.html</td>\n",
       "      <td>2015</td>\n",
       "      <td>Ed Sheeran</td>\n",
       "      <td>Don’t</td>\n",
       "    </tr>\n",
       "    <tr>\n",
       "      <th>6396</th>\n",
       "      <td>93</td>\n",
       "      <td>ellahenderson/ghost.html</td>\n",
       "      <td>2015</td>\n",
       "      <td>Ella Henderson</td>\n",
       "      <td>Ghost</td>\n",
       "    </tr>\n",
       "    <tr>\n",
       "      <th>6397</th>\n",
       "      <td>94</td>\n",
       "      <td>alessiacara/here.html</td>\n",
       "      <td>2015</td>\n",
       "      <td>Alessia Cara</td>\n",
       "      <td>Here</td>\n",
       "    </tr>\n",
       "    <tr>\n",
       "      <th>6398</th>\n",
       "      <td>95</td>\n",
       "      <td>mr.probz/waves.html</td>\n",
       "      <td>2015</td>\n",
       "      <td>Mr. Probz</td>\n",
       "      <td>Waves</td>\n",
       "    </tr>\n",
       "    <tr>\n",
       "      <th>6399</th>\n",
       "      <td>96</td>\n",
       "      <td>nickyjamandenriqueiglesias/elperdonforgiveness...</td>\n",
       "      <td>2015</td>\n",
       "      <td>Nicky Jam and Enrique Iglesias</td>\n",
       "      <td>El Perdon (Forgiveness)</td>\n",
       "    </tr>\n",
       "    <tr>\n",
       "      <th>6400</th>\n",
       "      <td>97</td>\n",
       "      <td>ne-yo/sheknows.html</td>\n",
       "      <td>2015</td>\n",
       "      <td>Ne-Yo feat. Juicy J</td>\n",
       "      <td>She Knows</td>\n",
       "    </tr>\n",
       "    <tr>\n",
       "      <th>6401</th>\n",
       "      <td>98</td>\n",
       "      <td>onedirection/nightchanges.html</td>\n",
       "      <td>2015</td>\n",
       "      <td>One Direction</td>\n",
       "      <td>Night Changes</td>\n",
       "    </tr>\n",
       "    <tr>\n",
       "      <th>6402</th>\n",
       "      <td>99</td>\n",
       "      <td>drake/backtoback.html</td>\n",
       "      <td>2015</td>\n",
       "      <td>Drake</td>\n",
       "      <td>Back To Back</td>\n",
       "    </tr>\n",
       "    <tr>\n",
       "      <th>6403</th>\n",
       "      <td>100</td>\n",
       "      <td>calvinharrisanddisciples/howdeepisyourlove.html</td>\n",
       "      <td>2015</td>\n",
       "      <td>Calvin Harris and Disciples</td>\n",
       "      <td>How Deep Is Your Love</td>\n",
       "    </tr>\n",
       "    <tr>\n",
       "      <th>6404</th>\n",
       "      <td>1</td>\n",
       "      <td>justinbieber/loveyourself.html</td>\n",
       "      <td>2016</td>\n",
       "      <td>Justin Bieber</td>\n",
       "      <td>Love Yourself</td>\n",
       "    </tr>\n",
       "  </tbody>\n",
       "</table>\n",
       "</div>"
      ],
      "text/plain": [
       "      rank                                         artistsong  year  \\\n",
       "6385    82                         ilovemakonnen/tuesday.html  2015   \n",
       "6386    83                       ilovememphis/hitthequan.html  2015   \n",
       "6387    84               macklemoreandryanlewis/downtown.html  2015   \n",
       "6388    85                            samhunt/houseparty.html  2015   \n",
       "6389    86                         chrisbrownandtyga/ayo.html  2015   \n",
       "6390    87                       lukebryan/kickthedustup.html  2015   \n",
       "6391    88                             bigsean/blessings.html  2015   \n",
       "6392    89                           georgeezra/budapest.html  2015   \n",
       "6393    90                                sia/chandelier.html  2015   \n",
       "6394    91                   kellyclarkson/heartbeatsong.html  2015   \n",
       "6395    92                                edsheeran/dont.html  2015   \n",
       "6396    93                           ellahenderson/ghost.html  2015   \n",
       "6397    94                              alessiacara/here.html  2015   \n",
       "6398    95                                mr.probz/waves.html  2015   \n",
       "6399    96  nickyjamandenriqueiglesias/elperdonforgiveness...  2015   \n",
       "6400    97                                ne-yo/sheknows.html  2015   \n",
       "6401    98                     onedirection/nightchanges.html  2015   \n",
       "6402    99                              drake/backtoback.html  2015   \n",
       "6403   100    calvinharrisanddisciples/howdeepisyourlove.html  2015   \n",
       "6404     1                     justinbieber/loveyourself.html  2016   \n",
       "\n",
       "                                                 artist  \\\n",
       "6385                          iLoveMakonnen feat. Drake   \n",
       "6386                                       iLoveMemphis   \n",
       "6387  Macklemore and Ryan Lewis feat. Eric Nally, Me...   \n",
       "6388                                           Sam Hunt   \n",
       "6389                               Chris Brown and Tyga   \n",
       "6390                                         Luke Bryan   \n",
       "6391                               Big Sean feat. Drake   \n",
       "6392                                        George Ezra   \n",
       "6393                                                Sia   \n",
       "6394                                     Kelly Clarkson   \n",
       "6395                                         Ed Sheeran   \n",
       "6396                                     Ella Henderson   \n",
       "6397                                       Alessia Cara   \n",
       "6398                                          Mr. Probz   \n",
       "6399                     Nicky Jam and Enrique Iglesias   \n",
       "6400                                Ne-Yo feat. Juicy J   \n",
       "6401                                      One Direction   \n",
       "6402                                              Drake   \n",
       "6403                        Calvin Harris and Disciples   \n",
       "6404                                      Justin Bieber   \n",
       "\n",
       "                   song_title  \n",
       "6385                  Tuesday  \n",
       "6386             Hit The Quan  \n",
       "6387                 Downtown  \n",
       "6388              House Party  \n",
       "6389                      Ayo  \n",
       "6390         Kick The Dust Up  \n",
       "6391                Blessings  \n",
       "6392                 Budapest  \n",
       "6393               Chandelier  \n",
       "6394           Heartbeat Song  \n",
       "6395                    Don’t  \n",
       "6396                    Ghost  \n",
       "6397                     Here  \n",
       "6398                    Waves  \n",
       "6399  El Perdon (Forgiveness)  \n",
       "6400                She Knows  \n",
       "6401            Night Changes  \n",
       "6402             Back To Back  \n",
       "6403    How Deep Is Your Love  \n",
       "6404            Love Yourself  "
      ]
     },
     "execution_count": 7,
     "metadata": {},
     "output_type": "execute_result"
    }
   ],
   "source": [
    "lookups.tail(20)"
   ]
  },
  {
   "cell_type": "markdown",
   "metadata": {},
   "source": [
    "### Search https://www.azlyrics.com/"
   ]
  },
  {
   "cell_type": "markdown",
   "metadata": {},
   "source": [
    "### Error Handling for 404s\n",
    "Collect a list of all ids which get 404s - use the list later to look up those songs in another lyrics db.<br>\n",
    "Skip the 404 ids in this code so that lyrics can be collected for valid urls."
   ]
  },
  {
   "cell_type": "code",
   "execution_count": 8,
   "metadata": {},
   "outputs": [],
   "source": [
    "#A short list of ids for testing, some work and some 404\n",
    "short_list = [6255,6270,6271,6281,6308,6309,6400,6401,6402]"
   ]
  },
  {
   "cell_type": "code",
   "execution_count": 9,
   "metadata": {},
   "outputs": [],
   "source": [
    "# Function to make 2 lists of IDs, one list for all valid webpages, \n",
    "# and one list for all 404s.\n",
    "\n",
    "def valid_pages(i):\n",
    "    #The URL will be built with 2 strings, baseurl + urlending\n",
    "    baseurl = \"https://www.azlyrics.com/lyrics/\"\n",
    "    urlending = df.artistsong[i]\n",
    "    myurl = baseurl+urlending\n",
    "    year_label = df.year[i]\n",
    "    #Open web client connection and grab the webpage, save it as a variable.\n",
    "    try:\n",
    "        uClient = uReq(myurl)\n",
    "        page_html = uClient.read()\n",
    "        #Close the web client connection.\n",
    "        uClient.close()\n",
    "        good_ids.append(i)\n",
    "    except:    \n",
    "        error_list.append(i)\n",
    "    finally:\n",
    "        print(\"Errors\", error_list, \"Good ids\", good_ids)"
   ]
  },
  {
   "cell_type": "code",
   "execution_count": 9,
   "metadata": {},
   "outputs": [],
   "source": [
    "baseurl = \"https://www.azlyrics.com/lyrics/\""
   ]
  },
  {
   "cell_type": "markdown",
   "metadata": {},
   "source": [
    "### I need to fix these lists so the year is included. \n",
    "Current Value:<br>\n",
    "Errors [6281, 6400, 6402] Good ids [6255, 6270, 6271, 6308, 6309, 6401]\n",
    "<br><br>\n",
    "Desired Value<br>\n",
    "Errors [2014,[6281]],[2015,[6400, 6402]] Good ids [2014,[6255, 6270, 6271]], [2015, [6308, 6309, 6401]]<br><br>\n",
    "I think I want something like a dictionary containing lists: https://www.geeksforgeeks.org/python-add-new-keys-to-a-dictionary/\n",
    "<br><br>\n",
    "Or this package: https://docs.python.org/2/library/collections.html#collections.defaultdict"
   ]
  },
  {
   "cell_type": "markdown",
   "metadata": {},
   "source": [
    "dictionary = { \n",
    "               'Year' : [ID,IDxxxx,IDxx] \n",
    "               'Year' : [ID,IDxxx]\n",
    "             }"
   ]
  },
  {
   "cell_type": "code",
   "execution_count": 17,
   "metadata": {},
   "outputs": [],
   "source": [
    "\n"
   ]
  },
  {
   "cell_type": "code",
   "execution_count": 18,
   "metadata": {},
   "outputs": [],
   "source": [
    "s = [('yellow', 1), ('blue', 2), ('yellow', 3), ('blue', 4), ('red', 1)]\n",
    "d = defaultdict(list)\n",
    "for k, v in s:\n",
    "    d[k].append(v)"
   ]
  },
  {
   "cell_type": "code",
   "execution_count": 19,
   "metadata": {},
   "outputs": [
    {
     "data": {
      "text/plain": [
       "dict_items([('yellow', [1, 3]), ('blue', [2, 4]), ('red', [1])])"
      ]
     },
     "execution_count": 19,
     "metadata": {},
     "output_type": "execute_result"
    }
   ],
   "source": [
    "d.items()"
   ]
  },
  {
   "cell_type": "code",
   "execution_count": null,
   "metadata": {},
   "outputs": [],
   "source": []
  },
  {
   "cell_type": "code",
   "execution_count": null,
   "metadata": {},
   "outputs": [],
   "source": []
  },
  {
   "cell_type": "code",
   "execution_count": 15,
   "metadata": {},
   "outputs": [],
   "source": [
    "#Collect all IDs which result in 404 errors into a dictionary with {Year1: [ID1, ID2, IDN], Year2: [ID1, ID2, IDN], YearN...}\n",
    "good_dict = {}\n",
    "bad_dict = {}"
   ]
  },
  {
   "cell_type": "code",
   "execution_count": 36,
   "metadata": {},
   "outputs": [],
   "source": [
    "#Collect all IDs which result in 404 errors into a list\n",
    "good_list = []\n",
    "bad_list = []"
   ]
  },
  {
   "cell_type": "code",
   "execution_count": 37,
   "metadata": {
    "scrolled": true
   },
   "outputs": [],
   "source": [
    "for i in short_list:\n",
    "    urlending = df.artistsong[i]\n",
    "    myurl = baseurl+urlending\n",
    "    try:\n",
    "        uClient = uReq(myurl)\n",
    "        page_html = uClient.read()\n",
    "        uClient.close()\n",
    "        good_list.extend([df.year[i],i])\n",
    "    except:    \n",
    "        bad_list.extend([df.year[i],i])\n"
   ]
  },
  {
   "cell_type": "code",
   "execution_count": 38,
   "metadata": {},
   "outputs": [
    {
     "data": {
      "text/plain": [
       "[2014, 6255, 2014, 6270, 2014, 6271, 2015, 6308, 2015, 6309, 2015, 6401]"
      ]
     },
     "execution_count": 38,
     "metadata": {},
     "output_type": "execute_result"
    }
   ],
   "source": [
    "good_list"
   ]
  },
  {
   "cell_type": "code",
   "execution_count": 39,
   "metadata": {},
   "outputs": [
    {
     "data": {
      "text/plain": [
       "[2014, 6281, 2015, 6400, 2015, 6402]"
      ]
     },
     "execution_count": 39,
     "metadata": {},
     "output_type": "execute_result"
    }
   ],
   "source": [
    "bad_list"
   ]
  },
  {
   "cell_type": "code",
   "execution_count": 125,
   "metadata": {
    "scrolled": true
   },
   "outputs": [
    {
     "name": "stdout",
     "output_type": "stream",
     "text": [
      "Errors [] Good ids [6255]\n",
      "Errors [] Good ids [6255, 6270]\n",
      "Errors [] Good ids [6255, 6270, 6271]\n",
      "Errors [6281] Good ids [6255, 6270, 6271]\n",
      "Errors [6281] Good ids [6255, 6270, 6271, 6308]\n",
      "Errors [6281] Good ids [6255, 6270, 6271, 6308, 6309]\n",
      "Errors [6281, 6400] Good ids [6255, 6270, 6271, 6308, 6309]\n",
      "Errors [6281, 6400] Good ids [6255, 6270, 6271, 6308, 6309, 6401]\n",
      "Errors [6281, 6400, 6402] Good ids [6255, 6270, 6271, 6308, 6309, 6401]\n"
     ]
    }
   ],
   "source": [
    "for i in short_list:\n",
    "    valid_pages(i)"
   ]
  },
  {
   "cell_type": "code",
   "execution_count": 91,
   "metadata": {},
   "outputs": [
    {
     "name": "stdout",
     "output_type": "stream",
     "text": [
      "[([1, 2, 3], 1), ([2, 3, 4], 2), ([3, 4, 5], 3), ([4, 5, 6], 4), ([5, 6, 7], 5), ([6, 7, 8], 6), ([7, 8, 9], 7)]\n"
     ]
    }
   ],
   "source": [
    "listoflists = []\n",
    "a_list = []\n",
    "for i in range(0,10):\n",
    "    a_list.append(i)\n",
    "    if len(a_list)>3:\n",
    "        a_list.remove(a_list[0])\n",
    "        listoflists.append((list(a_list), a_list[0]))\n",
    "print(listoflists)"
   ]
  },
  {
   "cell_type": "code",
   "execution_count": 43,
   "metadata": {},
   "outputs": [],
   "source": [
    "def find_lyrics(soup):\n",
    "    s = str(soup)\n",
    "    start = s.find('<!-- Usage of azlyrics.com content by any third-party lyrics provider is prohibited by our licensing agreement. Sorry about that. -->') + 133\n",
    "    end = s.find('<!-- MxM banner -->', start)\n",
    "    lyrics = s[start:end]\n",
    "    return lyrics"
   ]
  },
  {
   "cell_type": "code",
   "execution_count": 44,
   "metadata": {},
   "outputs": [],
   "source": [
    "#Clean lyrics of html tags\n",
    "def cleanhtml(raw_html):\n",
    "  cleanr = re.compile('<.*?>')\n",
    "  cleantext = re.sub(cleanr, '', raw_html)\n",
    "  return cleantext"
   ]
  },
  {
   "cell_type": "code",
   "execution_count": 45,
   "metadata": {},
   "outputs": [],
   "source": [
    "#The lemmatization is not working\n",
    "stop = set(stopwords.words('english'))\n",
    "exclude = set(string.punctuation) \n",
    "lemma = WordNetLemmatizer()"
   ]
  },
  {
   "cell_type": "code",
   "execution_count": 46,
   "metadata": {},
   "outputs": [],
   "source": [
    "#Remove numbers, punctuation, & stop words from the lyrics\n",
    "def clean(doc):\n",
    "    num_free = \"\".join([re.sub(r'\\d+', '', str) for str in doc])\n",
    "    stop_free = \" \".join([i for i in num_free.lower().split() if i not in stop])\n",
    "    punc_free = ''.join(ch for ch in stop_free if ch not in exclude)\n",
    "    normalized = \" \".join(lemma.lemmatize(word) for word in punc_free.split())\n",
    "    return normalized"
   ]
  },
  {
   "cell_type": "markdown",
   "metadata": {},
   "source": [
    "#### This next function calls all the previous functions."
   ]
  },
  {
   "cell_type": "code",
   "execution_count": 68,
   "metadata": {},
   "outputs": [],
   "source": [
    "#Get Page_Soup  \n",
    "def get_soup(i):\n",
    "    #The URL will be built with 2 strings, baseurl + urlending\n",
    "    baseurl = \"https://www.azlyrics.com/lyrics/\"\n",
    "    urlending = df.artistsong[i]\n",
    "    myurl = baseurl+urlending\n",
    "    #Open web client connection and grab the webpage, save it as a variable.\n",
    "    uClient = uReq(myurl)\n",
    "    page_html = uClient.read()\n",
    "    #Close the web client connection.\n",
    "    uClient.close()\n",
    "    #This command parses the html from the entire page.\n",
    "    page_soup = soup(page_html, \"html.parser\")\n",
    "    lyrics = find_lyrics(page_soup)\n",
    "    no_html = cleanhtml(lyrics)\n",
    "    result = clean(no_html)\n",
    "    return result"
   ]
  },
  {
   "cell_type": "code",
   "execution_count": 78,
   "metadata": {
    "scrolled": true
   },
   "outputs": [
    {
     "data": {
      "text/plain": [
       "' oh dare look back keep eye me said youre holding back said shut dance me woman destiny said oohoohhoo shut dance me victim night chemical physical kryptonite helpless bass fading light oh bound get together bound get together took arm know happened took floor said oh dare look back keep eye me said youre holding back said shut dance me woman destiny said oohoohhoo shut dance me backless dress beat sneak discothèque juliet teenage dream felt chest looked knew bound together bound together took arm know happened took floor said oh dare look back keep eye me said youre holding back said shut dance me woman destiny said oohoohhoo shut dance me oh come girl deep eye think see future realize last chance took arm know happened took floor said oh dare look back keep eye me said youre holding back said shut dance me woman destiny said oohoohhoo shut dance dont dare look back keep eye me said youre holding back said shut dance me woman destiny said oohoohhoo shut dance me oohoohhoo shut dance oohoohhoo shut dance'"
      ]
     },
     "execution_count": 78,
     "metadata": {},
     "output_type": "execute_result"
    }
   ],
   "source": [
    "get_soup(6309)"
   ]
  },
  {
   "cell_type": "markdown",
   "metadata": {},
   "source": [
    "### This next bit needs to be edited so that there is 1 long string per year."
   ]
  },
  {
   "cell_type": "code",
   "execution_count": 79,
   "metadata": {},
   "outputs": [],
   "source": [
    "# This takes all the lyrics and pastes them together into one long string\n",
    "string = \"\"\n",
    "for i in good_ids:\n",
    "    string = string + get_soup(i)"
   ]
  },
  {
   "cell_type": "code",
   "execution_count": 80,
   "metadata": {},
   "outputs": [
    {
     "data": {
      "text/plain": [
       "' im hurting baby im broken need loving loving need im without im something weak got begging begging im knee prechorus wanna needing love wanna deep love killing away ooh baby cause really care wanna gotta get one little taste chorus sugar yes please come put me im right here cause need little love little sympathy yeah show good loving make alright need little sweetness life sugar yes please come put me broken piece pick leave hanging hanging come give im without ya im insecure one thing one thing im living prechorus wanna needing love wanna deep love killing away ooh baby cause really care wanna gotta get one little taste chorus sugar yes please come put me im right here cause need little love little sympathy yeah show good loving make alright need little sweetness life sugar sugar yes please yes please come put me yeah want red velvet want sugar sweet let nobody touch unless somebody gotta man aint way cause girl hotter southern california day wanna play game gotta afraid give shy shit makeup thats chorus sugar yes please please come put down me im right right here cause need cause need little love little sympathy so baby yeah show good loving make alright need little sweetness life sugar sugar yes please yes please come put me chorus sugar yes please come put me im right here cause need little love little sympathy yeah show good loving make alright need little sweetness life sugar sugar yes please yes please come put me down me me im hurting baby im broken need loving loving need im without im something weak got begging begging im knee prechorus wanna needing love wanna deep love killing away ooh baby cause really care wanna gotta get one little taste chorus sugar yes please come put me im right here cause need little love little sympathy yeah show good loving make alright need little sweetness life sugar yes please come put me broken piece pick leave hanging hanging come give im without ya im insecure one thing one thing im living prechorus wanna needing love wanna deep love killing away ooh baby cause really care wanna gotta get one little taste chorus sugar yes please come put me im right here cause need little love little sympathy yeah show good loving make alright need little sweetness life sugar sugar yes please yes please come put me yeah want red velvet want sugar sweet let nobody touch unless somebody gotta man aint way cause girl hotter southern california day wanna play game gotta afraid give shy shit makeup thats chorus sugar yes please please come put down me im right right here cause need cause need little love little sympathy so baby yeah show good loving make alright need little sweetness life sugar sugar yes please yes please come put me chorus sugar yes please come put me im right here cause need little love little sympathy yeah show good loving make alright need little sweetness life sugar sugar yes please yes please come put me down me me oh dare look back keep eye me said youre holding back said shut dance me woman destiny said oohoohhoo shut dance me victim night chemical physical kryptonite helpless bass fading light oh bound get together bound get together took arm know happened took floor said oh dare look back keep eye me said youre holding back said shut dance me woman destiny said oohoohhoo shut dance me backless dress beat sneak discothèque juliet teenage dream felt chest looked knew bound together bound together took arm know happened took floor said oh dare look back keep eye me said youre holding back said shut dance me woman destiny said oohoohhoo shut dance me oh come girl deep eye think see future realize last chance took arm know happened took floor said oh dare look back keep eye me said youre holding back said shut dance me woman destiny said oohoohhoo shut dance dont dare look back keep eye me said youre holding back said shut dance me woman destiny said oohoohhoo shut dance me oohoohhoo shut dance oohoohhoo shut dance im hurting baby im broken need loving loving need im without im something weak got begging begging im knee prechorus wanna needing love wanna deep love killing away ooh baby cause really care wanna gotta get one little taste chorus sugar yes please come put me im right here cause need little love little sympathy yeah show good loving make alright need little sweetness life sugar yes please come put me broken piece pick leave hanging hanging come give im without ya im insecure one thing one thing im living prechorus wanna needing love wanna deep love killing away ooh baby cause really care wanna gotta get one little taste chorus sugar yes please come put me im right here cause need little love little sympathy yeah show good loving make alright need little sweetness life sugar sugar yes please yes please come put me yeah want red velvet want sugar sweet let nobody touch unless somebody gotta man aint way cause girl hotter southern california day wanna play game gotta afraid give shy shit makeup thats chorus sugar yes please please come put down me im right right here cause need cause need little love little sympathy so baby yeah show good loving make alright need little sweetness life sugar sugar yes please yes please come put me chorus sugar yes please come put me im right here cause need little love little sympathy yeah show good loving make alright need little sweetness life sugar sugar yes please yes please come put me down me me im hurting baby im broken need loving loving need im without im something weak got begging begging im knee prechorus wanna needing love wanna deep love killing away ooh baby cause really care wanna gotta get one little taste chorus sugar yes please come put me im right here cause need little love little sympathy yeah show good loving make alright need little sweetness life sugar yes please come put me broken piece pick leave hanging hanging come give im without ya im insecure one thing one thing im living prechorus wanna needing love wanna deep love killing away ooh baby cause really care wanna gotta get one little taste chorus sugar yes please come put me im right here cause need little love little sympathy yeah show good loving make alright need little sweetness life sugar sugar yes please yes please come put me yeah want red velvet want sugar sweet let nobody touch unless somebody gotta man aint way cause girl hotter southern california day wanna play game gotta afraid give shy shit makeup thats chorus sugar yes please please come put down me im right right here cause need cause need little love little sympathy so baby yeah show good loving make alright need little sweetness life sugar sugar yes please yes please come put me chorus sugar yes please come put me im right here cause need little love little sympathy yeah show good loving make alright need little sweetness life sugar sugar yes please yes please come put me down me me oh dare look back keep eye me said youre holding back said shut dance me woman destiny said oohoohhoo shut dance me victim night chemical physical kryptonite helpless bass fading light oh bound get together bound get together took arm know happened took floor said oh dare look back keep eye me said youre holding back said shut dance me woman destiny said oohoohhoo shut dance me backless dress beat sneak discothèque juliet teenage dream felt chest looked knew bound together bound together took arm know happened took floor said oh dare look back keep eye me said youre holding back said shut dance me woman destiny said oohoohhoo shut dance me oh come girl deep eye think see future realize last chance took arm know happened took floor said oh dare look back keep eye me said youre holding back said shut dance me woman destiny said oohoohhoo shut dance dont dare look back keep eye me said youre holding back said shut dance me woman destiny said oohoohhoo shut dance me oohoohhoo shut dance oohoohhoo shut dance zayn going tonight change something red mother like kind dress everything never showing liam driving fast moon breaking hair heading something forget regret really want harry were getting older baby ive thinking lately ever drive crazy fast night change everything ever dreamed disappearing wake there nothing afraid even night change never change louis chasing tonight doubt running round head he waiting hide behind cigarette heart beating loud want stop niall moving fast moon lighting skin falling even know yet regret really want harry were getting older baby ive thinking lately ever drive crazy fast night change everything ever dreamed disappearing wake there nothing afraid even night change never change zayn going tonight change something red mother like kind dress reminds missing piece innocence lost harry along all were getting older baby ive thinking lately ever drive crazy fast night change everything ever dreamed disappearing wake there nothing afraid even night change never change baby never change baby never change'"
      ]
     },
     "execution_count": 80,
     "metadata": {},
     "output_type": "execute_result"
    }
   ],
   "source": [
    "string"
   ]
  },
  {
   "cell_type": "code",
   "execution_count": null,
   "metadata": {},
   "outputs": [],
   "source": []
  }
 ],
 "metadata": {
  "kernelspec": {
   "display_name": "Python 3",
   "language": "python",
   "name": "python3"
  },
  "language_info": {
   "codemirror_mode": {
    "name": "ipython",
    "version": 3
   },
   "file_extension": ".py",
   "mimetype": "text/x-python",
   "name": "python",
   "nbconvert_exporter": "python",
   "pygments_lexer": "ipython3",
   "version": "3.6.5"
  }
 },
 "nbformat": 4,
 "nbformat_minor": 2
}
