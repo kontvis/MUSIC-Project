{
 "cells": [
  {
   "cell_type": "markdown",
   "metadata": {},
   "source": [
    "#### Purpose: Scrape Billboard Top 100 song titles for each year.\n",
    "\n",
    "Adapted from DS Dojo tutorial here: https://www.youtube.com/watch?v=XQgXKtPSzUI&t=565s\n",
    "<br>& the table parser here: https://stackoverflow.com/questions/41689944/beautifulsoup-to-parse-an-html-table#41690073\n",
    "<br><br><br>\n",
    "This script pulls in the top 100 song titles for one year.  <br>\n",
    "Next step: loop over each year and pull all the songs on the Billboard Top 100 from each year, add a column for the year."
   ]
  },
  {
   "cell_type": "markdown",
   "metadata": {},
   "source": [
    "##### Notes on the URL & html structure of the Billboard Top 100\n",
    "The Billboard Top 100 has the top 100 songs for each year back to 1940. \n",
    "The URLs follow this standard: http://billboardtop100of.com/YYYY-2/ <br>\n",
    "\n",
    "<b>Except</b> for 1940 which does not follow the stucture: http://billboardtop100of.com/336-2/ <br>\n",
    "Also, the year 1940 does not have the songs listed in a table. \n",
    "Therefore, for simplicity, I will only pull the songs from 1941 - current year.\n",
    "<br>\n",
    "Not all years are formatted the same on the pages.  Some are tables and some are not. \n",
    "I may just take a sample of the pages which are tables.<br>\n",
    "<br>\n",
    "2015 & 2016 contain links to the lyrics of each song<br>\n",
    "2017 & 2018 contain images"
   ]
  },
  {
   "cell_type": "markdown",
   "metadata": {},
   "source": [
    "#### I need to find a way to scrpe the song details from various web formats. \n",
    "Next steps, identify all the different formats and create a test so the correct code can be run for each year. <br>\n",
    "This code sort of works for 1942, but that looks to be a unique format. \n",
    "This does nto work for the other lists. "
   ]
  },
  {
   "cell_type": "code",
   "execution_count": 1,
   "metadata": {},
   "outputs": [],
   "source": [
    "from bs4 import BeautifulSoup as soup\n",
    "from urllib.request import urlopen as uReq\n",
    "import pandas as pd"
   ]
  },
  {
   "cell_type": "code",
   "execution_count": 8,
   "metadata": {},
   "outputs": [
    {
     "data": {
      "text/plain": [
       "'http://billboardtop100of.com/1942-2/'"
      ]
     },
     "execution_count": 8,
     "metadata": {},
     "output_type": "execute_result"
    }
   ],
   "source": [
    "#The URL will be build with 3 strings, baseurl + year + urlending\n",
    "baseurl = \"http://billboardtop100of.com/\"\n",
    "urlending = \"-2/\"\n",
    "year = 1942\n",
    "myurl = baseurl+str(year)+urlending\n",
    "myurl"
   ]
  },
  {
   "cell_type": "code",
   "execution_count": 9,
   "metadata": {},
   "outputs": [],
   "source": [
    "#Open web client connection and grab the webpage, save it as a variable.\n",
    "uClient = uReq(myurl)\n",
    "page_html = uClient.read()"
   ]
  },
  {
   "cell_type": "code",
   "execution_count": 10,
   "metadata": {},
   "outputs": [],
   "source": [
    "#Close the web client connection.\n",
    "uClient.close()"
   ]
  },
  {
   "cell_type": "code",
   "execution_count": 11,
   "metadata": {},
   "outputs": [],
   "source": [
    "#This command parses the html from the entire page.\n",
    "page_soup = soup(page_html, \"html.parser\")"
   ]
  },
  {
   "cell_type": "code",
   "execution_count": 12,
   "metadata": {},
   "outputs": [
    {
     "data": {
      "text/plain": [
       "<p>1.Moonlight Cocktail by The Glenn Miller Orchestra<br/>\n",
       "written by Kim Gannon &amp; Lucky Roberts</p>"
      ]
     },
     "execution_count": 12,
     "metadata": {},
     "output_type": "execute_result"
    }
   ],
   "source": [
    "page_soup.p"
   ]
  },
  {
   "cell_type": "code",
   "execution_count": 13,
   "metadata": {},
   "outputs": [],
   "source": [
    "data = []\n",
    "for i in range(0, 99):\n",
    "    songs = page_soup.find_all(\"p\")[i].text\n",
    "    data.append(songs)\n",
    "# In my use case, I want to store the speech data I mentioned earlier.  so in this example, I loop through the paragraphs, and push them into an array so that I can manipulate and do fun stuff with the data."
   ]
  },
  {
   "cell_type": "code",
   "execution_count": 14,
   "metadata": {},
   "outputs": [
    {
     "data": {
      "text/plain": [
       "['1.Moonlight Cocktail by The Glenn Miller Orchestra\\nwritten by Kim Gannon & Lucky Roberts',\n",
       " '2.(I’ve Got a Gal In) Kalamazoo by The Glenn Miller Orchestra\\nwritten by Mack Gordon & Harry Warren',\n",
       " '3.There Are Such Things by Tommy Dorsey and His Orchestra\\nvocals by Frank Sinatra & The Pied Pipers\\nwritten by Stanley Adams, Abel Baer & George W. Meyer',\n",
       " '4.White Christmas by Bing Crosby\\nwritten by Irving Berlin',\n",
       " '5. I Had the Craziest Dream by Harry James and His Orchestra\\nwritten by Harry Warren & Mack Gordon',\n",
       " '6.Sleepy Lagoon by Harry James and His Orchestra\\nwritten by Eric Coates & Jack Lawrence',\n",
       " '7. Tangerine by Jimmy Dorsey and His Orchestra\\nvocals by Bob Eberly & Helen O’Connell\\nwritten by Victor Schertzinger & Johnny Mercer',\n",
       " '8. Jingle Jangle Jingle by Kay Kyser and His Orchestra\\nvocals by Harry Babbitt\\nwritten by Frank Loesser & Joseph J. Lilley',\n",
       " '9. Blues in the Night (My Mama Done Tol’ Me) by Woody Herman and His Orchestra\\nwritten by Harold Arlen & Johnny Mercer',\n",
       " '10. A String of Pearls by The Glenn Miller Orchestra\\nwritten by Jerry Gray',\n",
       " '11. Don’t Sit Under the Apple Tree (With Anyone else But Me) by The Glenn Miller Orchestra\\nwritten by Charles Tobias (as Charlie Tobias), Lew Brown & Sam Stept',\n",
       " '12. Who Wouldn’t Love You by Kay Kyser and His Orchestra',\n",
       " '13. Jersey Bounce by Benny Goodman and His Orchestra\\nwritten by Tiny Bradshaw, Eddie Johnson, Bobby Plater & Buddy Feyne (as Robert B. Wright)',\n",
       " '14. Serenade in Blue by The Glenn Miller Orchestra\\nwritten by Harry Warren & Mack Gordon',\n",
       " '15. When the Lights Go On Again (All Over the World) by Vaughn Monroe',\n",
       " '16. Praise the Lord and Pass the Ammunition! by Kay Kyser and His Orchestra\\nvocals by the Glee Club\\nwritten by Frank Loesser',\n",
       " '17. I Don’t Want to Walk without You by Harry James and His Orchestra\\nvocals by Helen Forrest\\nwritten by Jule Styne & Frank Loesser',\n",
       " '18. My Devotion by Charlie Spivak and His Orchestra',\n",
       " '19. He Wears a Pair of Silver Wings by Kay Kyser and His Orchestra\\nvocals by Harry Babbitt',\n",
       " '20. I Said No! by Alvino Rey and His Orchestra',\n",
       " '21. Mister Five by Five by Harry James and His Orchestra\\nvocals by Helen Forrest',\n",
       " '22. Der Fuehrer’s Face by Spike Jones and His City Slickers\\nvocals by Carl Grayson',\n",
       " '23. Just As Though You Were Here by Tommy Dorsey and His Orchestra\\nvocals by Frank Sinatra & The Pied Pipers',\n",
       " '24. Deep in the Heart of Texas by Alvino Rey and His Orchestra\\nvocals by bill schallen & skeets herfurt\\nwritten by Don Swander & June Hershey',\n",
       " '25. I Left My Heart At the Stage Door Canteen by Swing and Sway with Sammy Kaye\\nvocals by Don Cornell',\n",
       " '26. Deep in the Heart of Texas by Bing Crosby\\nwritten by Don Swander & June Hershey',\n",
       " '27. Remember Pearl Harbor by Swing and Sway with Sammy Kaye\\nvocals by the Glee Club',\n",
       " '28. One Dozen Roses by Harry James and His Orchestra\\nvocals by Jimmy Saunders\\nwritten by Walter Donovan, Dick Jurgens, Al Lewis & Country Washburne',\n",
       " '29. Jingle Jangle Jingle by The Merry Macs\\nwritten by Frank Loesser & Joseph J. Lilley',\n",
       " '30. Blues in the Night by Dinah Shore\\nwritten by Harold Arlen & Johnny Mercer',\n",
       " '31. Blues in the Night (My Mama Done Tol’ Me) (Parts 1 & 2) by Jimmie Lunceford and His Orchestra\\nwritten by Harold Arlen & Johnny Mercer',\n",
       " '32. Idaho by Benny Goodman and His Orchestra\\nvocals by Dick Haymes\\nwritten by Jesse A. Stone',\n",
       " '33. Amen by Abe Lyman and His Californians\\nvocals by Rose Blane',\n",
       " '34. Somebody Else Is Taking My Place by Russ Morgan',\n",
       " '35. Somebody Else Is Taking My Place by Benny Goodman and His Orchestra\\nvocals by Peggy Lee',\n",
       " '36. Strictly Instrumental by Harry James and His Orchestra',\n",
       " '37. My Devotion by Vaughn Monroe',\n",
       " '38. Amen by Woody Herman and His Orchestra',\n",
       " '39. Take Me by Tommy Dorsey and His Orchestra\\nvocals by Frank Sinatra',\n",
       " '40. Strip Polka by Kay Kyser and His Orchestra\\nvocals by Jack Martin & the Glee Club\\nwritten by Johnny Mercer\\n[adToAppearHere]\\n41. (There’ll Be Bluebirds Over) The White Cliffs of Dover by The Glenn Miller Orchestra\\nwritten by Walter Kent & Nat Burton',\n",
       " '42. Strip Polka by The Andrews Sisters\\nwritten by Johnny Mercer',\n",
       " '43. Mr. Five by Five by Freddie Slack and His Orchestra',\n",
       " '44. Sweet Eloise by The Glenn Miller Orchestra',\n",
       " '45. Skylark by The Glenn Miller Orchestra',\n",
       " '46. Juke Box Saturday Night by The Glenn Miller Orchestra',\n",
       " '47. Everything I Love by The Glenn Miller Orchestra\\nvocal by Ray Eberle',\n",
       " '48. Strip Polka by Johnny Mercer\\nwritten by Johnny Mercer',\n",
       " '49. Cow-Cow Boogie by Freddie Slack and His Orchestra',\n",
       " '50. Deep in the Heart of Texas by Horace Heidt and His Musical Knights\\nwritten by Don Swander & June Hershey',\n",
       " '51. (There’ll Be Bluebirds Over) The White Cliffs of Dover by Kay Kyser and His Orchestra\\nvocals by Harry Babbitt\\nwritten by Walter Kent & Nat Burton',\n",
       " '52. One Dozen Roses by Dinah Shore\\nwritten by Walter Donovan, Dick Jurgens, Al Lewis & Country Washburne',\n",
       " '53. Praise the Lord and Pass the Ammunition! by The Merry Macs\\nwritten by Frank Loesser',\n",
       " '54. Miss You by Dinah Shore\\nwritten by Charles Tobias, Henry Tobias & Harry Tobias',\n",
       " '55. Rose O’Day (The Filla-Ga-Dusha Song) by Kate Smith',\n",
       " '56. One Dozen Roses by Glen Gray and the Casa Loma Orchestra\\nvocals by Pee Wee Hunt\\nwritten by Walter Donovan, Dick Jurgens, Al Lewis & Country Washburne',\n",
       " '57. Johnny Doughboy Found a Rose in Ireland by Kay Kyser and His Orchestra\\nwritten by Al Goodhart & Kay Twomey',\n",
       " '58. This Is No Laughing Matter by Charlie Spivak and His Orchestra\\nvocals by Garry Stevens & the Stardusters\\nwritten by Buddy Kaye & Al Frisch',\n",
       " '59. Strip Polka by Alvino Rey and His Orchestra\\nvocals by the Four King Sisters\\nwritten by Johnny Mercer',\n",
       " '60. I Left My Heart At the Stage Door Canteen by Charlie Spivak and His Orchestra',\n",
       " '61. Tonight We Love by Freddy Martin and His Orchestra\\nvocals by Clyde Rogers',\n",
       " '62. Blues in the Night (My Mama Done Tol’ Me) by Cab Calloway\\nas Cab Calloway & His Orchestra\\ndizzy gillespie on trumpet\\nwritten by Harold Arlen & Johnny Mercer',\n",
       " '63. A Zoot Suit (For My Sunday Gal) by Kay Kyser and His Orchestra',\n",
       " '64. At Last by The Glenn Miller Orchestra\\nwritten by Mack Gordon & Harry Warren',\n",
       " '65. Miss You by Bing Crosby\\nwritten by Charles Tobias, Henry Tobias & Harry Tobias',\n",
       " '66. I Don’t Want to Walk without You by Bing Crosby\\nwritten by Jule Styne & Frank Loesser',\n",
       " '67. Manhattan Serenade by Harry James and His Orchestra\\nvocals by Helen Forrest\\nwritten by Louis Alter & Harold Adamson',\n",
       " '68. Johnny Doughboy Found a Rose in Ireland by Guy Lombardo and His Royal Canadians\\nvocals by Kenny Gardner\\nwritten by Al Goodhart & Kay Twomey',\n",
       " '69. Jersey Bounce by Jimmy Dorsey and His Orchestra\\nwritten by Tiny Bradshaw, Eddie Johnson, Bobby Plater & Buddy Feyne (as Robert B. Wright)',\n",
       " '70. I Remember You by Jimmy Dorsey and His Orchestra\\nvocals by Bob Eberly; hit for Ada Jones in 1909\\nwritten by Johnny Mercer & Victor Schertzinger',\n",
       " '71. He’s My Guy by Harry James and His Orchestra\\nvocals by Helen Forrest',\n",
       " '72. (There’ll Be Bluebirds Over) The White Cliffs of Dover by Kate Smith\\nwritten by Walter Kent & Nat Burton',\n",
       " '73. Always in My Heart by The Glenn Miller Orchestra\\nvocal by Ray Eberle\\nwritten by Kim Gannon & Manny Lecouna',\n",
       " '74. Daybreak by Tommy Dorsey and His Orchestra\\nvocals by Frank Sinatra',\n",
       " '75. Dearly Beloved by Dinah Shore',\n",
       " '76. Take Me by Benny Goodman and His Orchestra\\nvocals by Dick Haymes',\n",
       " '77. My Devotion by Jimmy Dorsey and His Orchestra\\nvocals by Bob Eberly',\n",
       " '78. I Said No by Jimmy Dorsey and His Orchestra\\nvocals by Bob Eberly & Helen O’Connell',\n",
       " '79. When the Lights Go On Again (All Over the World) by Lucky Millinder and His Orchestra\\nvocals by Trevor Bacon',\n",
       " '80. Brazil (Aquarela Do Brasil) by Jimmy Dorsey and His Orchestra\\nvocals by Bob Eberly\\nwritten by Ary Barroso & Bob Russell',\n",
       " '81. Trav’lin’ Light by Paul Whiteman & His Orchestra',\n",
       " '82. My Devotion by The Four King Sisters',\n",
       " '83. Be Careful It’s My Heart by Bing Crosby\\nwritten by Irving Berlin',\n",
       " '84. Johnny Doughboy Found a Rose in Ireland by Kenny Baker\\nwritten by Al Goodhart & Kay Twomey',\n",
       " '85. Deep in the Heart of Texas by The Merry Macs\\nwritten by Don Swander & June Hershey',\n",
       " '86. Dearly Beloved by Johnnie Johnston',\n",
       " '87. I Don’t Want to Walk without You by Dinah Shore\\nwritten by Jule Styne & Frank Loesser',\n",
       " '88. Manhattan Serenade by Tommy Dorsey and His Orchestra\\nvocals by Jo Stafford\\nwritten by Louis Alter & Harold Adamson',\n",
       " '89. Be Careful, It’s My Heart by Tommy Dorsey and His Orchestra\\nvocals by Frank Sinatra',\n",
       " '90. American Patrol by The Glenn Miller Orchestra',\n",
       " '91. The Story of a Starry Night by The Glenn Miller Orchestra',\n",
       " '92. Idaho by Alvino Rey and His Orchestra\\nwritten by Jesse A. Stone',\n",
       " '93. (There’ll Be Blue Birds Over) The White Cliffs of Dover by Swing and Sway with Sammy Kaye\\nvocals by Arthur Wright and Choir\\nwritten by Walter Kent & Nat Burton',\n",
       " '94. Skylark by Harry James and His Orchestra\\nvocals by Helen Forrest\\nwritten by Hoagy Carmichael & Johnny Mercer',\n",
       " '95. How About You? by Tommy Dorsey and His Orchestra\\nvocals by Frank Sinatra',\n",
       " '96. By the Light of the Silv’ry Moon by Ray Noble and His Orchestra\\nvocals by Snooky Lanson\\nwritten by Gus Edwards & Edward Madden',\n",
       " '97. A Touch of Texas by Freddy Martin and His Orchestra\\nvocals by Eddie Stone & Glenn Hughes',\n",
       " '98. White Christmas by Gordon Jenkins and His Orchestra\\nvocals by Bob Carroll\\nwritten by Irving Berlin',\n",
       " '99. Johnny Doughboy Found a Rose in Ireland by Freddy Martin and His Orchestra\\nvocals by Clyde Rogers\\nwritten by Al Goodhart & Kay Twomey',\n",
       " '100. Tangerine by Vaughn Monroe\\nwritten by Victor Schertzinger & Johnny Mercer']"
      ]
     },
     "execution_count": 14,
     "metadata": {},
     "output_type": "execute_result"
    }
   ],
   "source": [
    "data"
   ]
  },
  {
   "cell_type": "markdown",
   "metadata": {},
   "source": [
    "#### Further parsing is needed."
   ]
  }
 ],
 "metadata": {
  "kernelspec": {
   "display_name": "Python 3",
   "language": "python",
   "name": "python3"
  },
  "language_info": {
   "codemirror_mode": {
    "name": "ipython",
    "version": 3
   },
   "file_extension": ".py",
   "mimetype": "text/x-python",
   "name": "python",
   "nbconvert_exporter": "python",
   "pygments_lexer": "ipython3",
   "version": "3.6.5"
  }
 },
 "nbformat": 4,
 "nbformat_minor": 2
}
