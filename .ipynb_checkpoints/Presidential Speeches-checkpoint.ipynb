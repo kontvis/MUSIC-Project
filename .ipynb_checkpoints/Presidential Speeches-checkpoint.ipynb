{
 "cells": [
  {
   "cell_type": "markdown",
   "metadata": {},
   "source": [
    "### Adapted from this: http://tlfvincent.github.io/2015/10/23/presidential-speech-topics/"
   ]
  },
  {
   "cell_type": "code",
   "execution_count": 1,
   "metadata": {},
   "outputs": [
    {
     "ename": "ModuleNotFoundError",
     "evalue": "No module named 'urllib2'",
     "output_type": "error",
     "traceback": [
      "\u001b[1;31m---------------------------------------------------------------------------\u001b[0m",
      "\u001b[1;31mModuleNotFoundError\u001b[0m                       Traceback (most recent call last)",
      "\u001b[1;32m<ipython-input-1-b6d4003c4885>\u001b[0m in \u001b[0;36m<module>\u001b[1;34m\u001b[0m\n\u001b[0;32m      3\u001b[0m \u001b[1;32mimport\u001b[0m \u001b[0mpandas\u001b[0m \u001b[1;32mas\u001b[0m \u001b[0mpd\u001b[0m\u001b[1;33m\u001b[0m\u001b[0m\n\u001b[0;32m      4\u001b[0m \u001b[1;32mimport\u001b[0m \u001b[0mpickle\u001b[0m\u001b[1;33m\u001b[0m\u001b[0m\n\u001b[1;32m----> 5\u001b[1;33m \u001b[1;32mimport\u001b[0m \u001b[0murllib2\u001b[0m\u001b[1;33m\u001b[0m\u001b[0m\n\u001b[0m\u001b[0;32m      6\u001b[0m \u001b[1;32mimport\u001b[0m \u001b[0mre\u001b[0m\u001b[1;33m\u001b[0m\u001b[0m\n",
      "\u001b[1;31mModuleNotFoundError\u001b[0m: No module named 'urllib2'"
     ]
    }
   ],
   "source": [
    "# import required libraries to scrape presidential transcripts\n",
    "from bs4 import BeautifulSoup\n",
    "import pandas as pd\n",
    "import pickle\n",
    "import urllib2\n",
    "import re"
   ]
  },
  {
   "cell_type": "code",
   "execution_count": null,
   "metadata": {},
   "outputs": [],
   "source": [
    "def get_speech_links():\n",
    "    ''' scrape content of pages with all presidential transcript links '''\n",
    "    home_url = 'http://millercenter.org/president/speeches'\n",
    "    try:\n",
    "        response = urllib2.urlopen(home_url)\n",
    "        page_source = response.read()\n",
    "        soup = BeautifulSoup(page_source, \"html5lib\")\n",
    "        transcript_links = soup.findAll(\"a\", {'class': 'transcript'})\n",
    "        return transcript_links\n",
    "    except urllib2.HTTPError:\n",
    "        print 'Homepage not available!'\n",
    "        return None"
   ]
  },
  {
   "cell_type": "code",
   "execution_count": null,
   "metadata": {},
   "outputs": [],
   "source": [
    "def get_transcript(speech_link):\n",
    "    ''' scrape title of speech, date of speech and full transcipt contained in the input speech_link URL '''\n",
    "    speaking = speech_link.split('/')[2]\n",
    "    new_link = base_url + str(speech_link)\n",
    "    try:\n",
    "        response = urllib2.urlopen(new_link)\n",
    "        page_source = response.read()\n",
    "        soup = BeautifulSoup(page_source, \"html5lib\")\n",
    "        title = soup.find('title').text\n",
    "        speech_date = title.split('(', 1)[1].split(')')[0]\n",
    "        transcript = soup.find('div', {'id': 'transcript'}).text\n",
    "        transcript = transcript.replace('\\n', ' ').replace('\\r', '').replace('\\t', '')\n",
    "        return {'speaker': speaking,\n",
    "                'date': speech_date,\n",
    "                'title': title,\n",
    "                'transcript': transcript}\n",
    "    except urllib2.HTTPError:\n",
    "        print 'skipped ' + str(speech_link)\n",
    "        return None"
   ]
  },
  {
   "cell_type": "code",
   "execution_count": null,
   "metadata": {},
   "outputs": [],
   "source": [
    "# iterate through all links and extract content\n",
    "transcript_links = get_speech_links()\n",
    "base_url = 'http://millercenter.org/'\n",
    "transcript_dict = {}\n",
    "for i, link in enumerate(transcript_links):\n",
    "    if i % 100 == 0:\n",
    "        print 'Scraped ' + str(i) + '/' + str(len(transcript_links)) + ' of links...'\n",
    "    if link.has_attr('href'):\n",
    "        transcript_data = get_transcript(link['href'])\n",
    "        if transcript_data is not None:\n",
    "            key = transcript_data['speaker'] + '|' + transcript_data['date']\n",
    "            transcript_dict[key] = transcript_data"
   ]
  },
  {
   "cell_type": "code",
   "execution_count": null,
   "metadata": {},
   "outputs": [],
   "source": [
    "# dump dataframe to pickle object\n",
    "df = pd.DataFrame.from_dict(transcript_dict, orient='index')\n",
    "pickle.dump(df, open( \"presidential_speeches.pickle\", \"wb\" ))"
   ]
  }
 ],
 "metadata": {
  "kernelspec": {
   "display_name": "Python 3",
   "language": "python",
   "name": "python3"
  },
  "language_info": {
   "codemirror_mode": {
    "name": "ipython",
    "version": 3
   },
   "file_extension": ".py",
   "mimetype": "text/x-python",
   "name": "python",
   "nbconvert_exporter": "python",
   "pygments_lexer": "ipython3",
   "version": "3.6.5"
  }
 },
 "nbformat": 4,
 "nbformat_minor": 2
}
